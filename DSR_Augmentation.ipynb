{
  "nbformat": 4,
  "nbformat_minor": 0,
  "metadata": {
    "colab": {
      "provenance": []
    },
    "kernelspec": {
      "name": "python3",
      "display_name": "Python 3"
    },
    "language_info": {
      "name": "python"
    }
  },
  "cells": [
    {
      "cell_type": "code",
      "execution_count": null,
      "metadata": {
        "colab": {
          "base_uri": "https://localhost:8080/"
        },
        "id": "Jm6MnJA-SUB9",
        "outputId": "812fff71-4772-4210-ca02-c0d04089905d"
      },
      "outputs": [
        {
          "output_type": "stream",
          "name": "stdout",
          "text": [
            "Drive already mounted at /content/drive; to attempt to forcibly remount, call drive.mount(\"/content/drive\", force_remount=True).\n",
            "/content/drive/MyDrive/New Dataset/temp dataset\n",
            "/content/drive/MyDrive/New Dataset/temp dataset/1200\n",
            "/content/drive/MyDrive/New Dataset/temp dataset/2100\n",
            "/content/drive/MyDrive/New Dataset/temp dataset/850\n",
            "/content/drive/MyDrive/New Dataset/temp dataset/1100\n",
            "/content/drive/MyDrive/New Dataset/temp dataset/900\n",
            "/content/drive/MyDrive/New Dataset/temp dataset/1400\n",
            "/content/drive/MyDrive/New Dataset/temp dataset/800\n",
            "/content/drive/MyDrive/New Dataset/temp dataset/700\n",
            "/content/drive/MyDrive/New Dataset/temp dataset/500\n",
            "/content/drive/MyDrive/New Dataset/temp dataset/2700\n"
          ]
        }
      ],
      "source": [
        "# Import necessary libraries\n",
        "import os\n",
        "import random\n",
        "from PIL import Image\n",
        "\n",
        "# Mount Google Drive to access the data\n",
        "from google.colab import drive\n",
        "drive.mount('/content/drive')\n",
        "\n",
        "# Define function to rotate and flip images\n",
        "def augment_image(image_path, num_augmentations):\n",
        "    # Open the image\n",
        "    with Image.open(image_path) as img:\n",
        "        # Crop the image to a square\n",
        "        width, height = img.size\n",
        "        size = min(width, height)\n",
        "        left = (width - size) // 2\n",
        "        top = (height - size) // 2\n",
        "        right = (width + size) // 2\n",
        "        bottom = (height + size) // 2\n",
        "        cropped_img = img.crop((left, top, right, bottom))\n",
        "\n",
        "        # Loop through the number of augmentations\n",
        "        for i in range(num_augmentations):\n",
        "            # Rotate the image by a random angle between -30 and 30 degrees\n",
        "            angle = random.randint(-30, 30)\n",
        "            rotated_img = cropped_img.rotate(angle)\n",
        "\n",
        "            # Flip the image horizontally with 50% probability\n",
        "            if random.random() < 0.5:\n",
        "                rotated_img = rotated_img.transpose(method=Image.FLIP_LEFT_RIGHT)\n",
        "\n",
        "            # Save the augmented image with a new filename\n",
        "            new_filename = os.path.splitext(image_path)[0] + f\"aug{i+1}.jpg\"\n",
        "            rotated_img.save(new_filename)\n",
        "\n",
        "# Define the directory path\n",
        "directory_path = '/content/drive/MyDrive/New Dataset/temp dataset'\n",
        "\n",
        "# Loop through all the subdirectories\n",
        "for subdir, dirs, files in os.walk(directory_path):\n",
        "    # Loop through all the image files in the subdirectory\n",
        "    print(subdir)\n",
        "    for file in files:\n",
        "        # Check if the file is an image file\n",
        "        if file.endswith('.jpg') or file.endswith('.png') or file.endswith('.jpeg'):\n",
        "            # Augment the image and save the augmented images in the same directory\n",
        "            image_path = os.path.join(subdir, file)\n",
        "            augment_image(image_path,1)"
      ]
    },
    {
      "cell_type": "code",
      "source": [
        "import os\n",
        "import cv2\n",
        "\n",
        "# Define the main directory where the dataset is located\n",
        "main_dir = '/content/drive/MyDrive/New Dataset/temp dataset'\n",
        "\n",
        "# Define the brightness and contrast factors\n",
        "brightness_factor = 35\n",
        "contrast_factor = 1.35\n",
        "\n",
        "# Loop over each subdirectory in the main directory\n",
        "for subdir in os.listdir(main_dir):\n",
        "    subdir_path = os.path.join(main_dir, subdir)\n",
        "    if os.path.isdir(subdir_path):\n",
        "        print(subdir_path)\n",
        "        # Loop over each image file in the subdirectory\n",
        "        for filename in os.listdir(subdir_path):\n",
        "            img_path = os.path.join(subdir_path, filename)\n",
        "            if os.path.isfile(img_path):\n",
        "                # Load the image\n",
        "                img = cv2.imread(img_path)\n",
        "\n",
        "                # Apply the brightness and contrast adjustments separately\n",
        "                brightened_img = cv2.addWeighted(img, 1.0, img, 0, brightness_factor)\n",
        "                contrasted_img = cv2.addWeighted(img, contrast_factor, img, 0, 0)\n",
        "\n",
        "                # Save the augmented images in the same subdirectory with new filenames\n",
        "                brightened_filename = f'brightened_{filename}'\n",
        "                contrasted_filename = f'contrasted_{filename}'\n",
        "                brightened_img_path = os.path.join(subdir_path, brightened_filename)\n",
        "                contrasted_img_path = os.path.join(subdir_path, contrasted_filename)\n",
        "                cv2.imwrite(brightened_img_path, brightened_img)\n",
        "                cv2.imwrite(contrasted_img_path, contrasted_img)"
      ],
      "metadata": {
        "colab": {
          "base_uri": "https://localhost:8080/"
        },
        "id": "1mPraCuXTEjn",
        "outputId": "bc1ff27b-83f0-4721-84d5-1701ba30ba1f"
      },
      "execution_count": null,
      "outputs": [
        {
          "output_type": "stream",
          "name": "stdout",
          "text": [
            "/content/drive/MyDrive/New Dataset/temp dataset/1200\n",
            "/content/drive/MyDrive/New Dataset/temp dataset/2100\n",
            "/content/drive/MyDrive/New Dataset/temp dataset/850\n",
            "/content/drive/MyDrive/New Dataset/temp dataset/1100\n",
            "/content/drive/MyDrive/New Dataset/temp dataset/900\n",
            "/content/drive/MyDrive/New Dataset/temp dataset/1400\n",
            "/content/drive/MyDrive/New Dataset/temp dataset/800\n",
            "/content/drive/MyDrive/New Dataset/temp dataset/700\n",
            "/content/drive/MyDrive/New Dataset/temp dataset/500\n",
            "/content/drive/MyDrive/New Dataset/temp dataset/2700\n"
          ]
        }
      ]
    }
  ]
}